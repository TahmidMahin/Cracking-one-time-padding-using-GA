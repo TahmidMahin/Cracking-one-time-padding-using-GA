{
 "cells": [
  {
   "cell_type": "code",
   "execution_count": 1,
   "metadata": {},
   "outputs": [],
   "source": [
    "import re\n",
    "import math\n",
    "import random\n",
    "from matplotlib import pyplot as plt"
   ]
  },
  {
   "cell_type": "code",
   "execution_count": 2,
   "metadata": {},
   "outputs": [],
   "source": [
    "smallLetters = \"abcdefghijklmnopqrstuvwxyz\"\n",
    "capitalLetters = \"ABCDEFGHIJKLMNOPQRSTUVWXYZ\"\n",
    "symbols = \" ,.?!-()\"\n",
    "alphabet = smallLetters + capitalLetters + symbols"
   ]
  },
  {
   "cell_type": "code",
   "execution_count": 3,
   "metadata": {},
   "outputs": [
    {
     "name": "stdout",
     "output_type": "stream",
     "text": [
      "104334\n"
     ]
    }
   ],
   "source": [
    "path = '/usr/share/dict/words'\n",
    "\n",
    "dictionaryFile = open(path, 'r')\n",
    "words = dictionaryFile.read().splitlines()\n",
    "dictionary = set(words)\n",
    "print(len(dictionary))"
   ]
  },
  {
   "cell_type": "code",
   "execution_count": 4,
   "metadata": {},
   "outputs": [
    {
     "name": "stdout",
     "output_type": "stream",
     "text": [
      "[0, 32, 14, 162, 166, 143, 97, 199, 84, 128, 186, 67, 246, 43, 37, 76, 222, 75, 131, 131, 185, 79, 149, 100, 201, 116, 219, 101, 188, 112, 206, 25, 63, 147, 142, 153, 112, 190, 67, 231, 37, 246, 85, 249, 123, 161, 135, 215, 124, 193, 143, 135, 201, 67, 237, 54, 246, 74, 196, 77, 80]\n",
      "[0, 39, 0, 27, 44, 224, 51, 18, 23, 10, 43, 233, 81, 198, 215, 123, 142, 182, 124, 137, 167, 108, 187, 67, 244, 104, 192, 128, 151, 142, 174, 124, 225, 32, 250, 13, 90, 212, 35, 82, 206, 41, 3, 33, 236, 84, 242, 7, 60, 0, 21, 20, 36, 167, 143, 136, 201, 104, 164, 119, 218]\n",
      "[0, 36, 10, 29, 37, 8, 28, 68, 254, 37, 16, 233, 93, 197, 133, 236, 29, 5, 36, 253, 57, 138, 216, 26, 34, 58, 82, 169, 192, 66, 8, 22, 123, 140, 135, 140, 137, 158, 96, 200, 64, 219, 111, 217, 82, 252, 100, 164, 158, 186, 155, 108, 193, 75, 254, 38, 167, 159, 105, 184, 157]\n",
      "[0, 35, 6, 19, 53, 170, 127, 168, 114, 203, 116, 131, 188, 100, 181, 139, 153, 140, 136, 220, 78, 218, 52, 196, 114, 170, 203, 159, 246, 47, 18, 17, 56, 201, 64, 207, 94, 214, 43, 19, 9, 250, 30, 9, 5, 114, 206, 86, 251, 18, 52, 239, 77, 144, 180, 121, 163, 151, 141, 146, 164]\n",
      "[0, 58, 204, 20, 103, 216, 44, 2, 14, 54, 235, 45, 25, 9, 26, 42, 234, 67, 249, 8, 36, 250, 19, 164, 143, 140, 237, 80, 245, 55, 27, 227, 75, 203, 20, 236, 60, 233, 45, 19, 15, 226, 6, 59, 248, 55, 9, 16, 59, 23, 63, 135, 205, 66, 230, 75, 197, 109, 170, 126, 143]\n",
      "[0, 57, 205, 18, 17, 70, 214, 112, 183, 108, 207, 47, 29, 20, 33, 72, 204, 51, 232, 51, 236, 45, 246, 19, 3, 35, 13, 47, 8, 75, 247, 13, 114, 130, 142, 138, 146, 159, 127, 190, 8, 227, 7, 39, 236, 78, 182, 69, 255, 79, 244, 40, 49, 243, 72, 254, 47, 27, 20, 231, 56]\n",
      "[0, 51, 23, 237, 70, 242, 6, 99, 132, 181, 111, 141, 177, 100, 251, 98, 162, 154, 134, 155, 139, 144, 159, 99, 210, 67, 247, 10, 32, 163, 168, 123, 161, 103, 181, 71, 148, 134, 146, 130, 158, 125, 181, 215, 77, 242, 91, 191, 39, 61, 19, 21, 107, 172, 150, 205, 91, 236, 43, 255, 16]\n",
      "[0, 39, 7, 25, 32, 28, 238, 27, 239, 94, 213, 103, 213, 91, 245, 76, 197, 99, 220, 34, 17, 242, 48, 216, 15, 17, 55, 12, 38, 251, 64, 139, 164, 119, 192, 79, 156, 158, 125, 181, 111, 157, 142, 183, 107, 217, 81, 169, 152, 172, 193, 90, 233, 63, 242, 44, 224, 4, 20, 225, 99]\n",
      "[0, 35, 6, 31, 114, 172, 120, 185, 81, 189, 126, 131, 183, 111, 128, 179, 119, 158, 133, 144, 185, 68, 138, 143, 142, 135, 232, 120, 202, 95, 227, 39, 10, 23, 227, 48, 233, 47, 211, 2, 4, 31, 7, 105, 169, 147, 190, 64, 168, 172, 149, 146, 164, 98, 199, 62, 249, 79, 222, 35, 116]\n",
      "[0, 32, 14, 162, 189, 125, 158, 131, 204, 108, 210, 45, 15, 67, 29, 10, 28, 19, 2, 4, 55, 219, 97, 189, 96, 220, 120, 217, 99, 230, 106, 186, 223, 36, 226, 34, 228, 101, 191, 96, 234, 16, 60, 23, 10, 119, 217, 40, 3, 89, 231, 33, 54, 237, 93, 218, 92, 128, 132, 157, 171]\n"
     ]
    }
   ],
   "source": [
    "f = open('Ciphertext_Assignment_3.txt', 'r')\n",
    "cipherTextList = [eval(line) for line in f.readlines()]\n",
    "f.close()\n",
    "for i in range(len(cipherTextList)):\n",
    "    cipherTextList[i].insert(0, 0)\n",
    "print(*cipherTextList, sep = '\\n')"
   ]
  },
  {
   "cell_type": "code",
   "execution_count": 5,
   "metadata": {},
   "outputs": [
    {
     "name": "stdout",
     "output_type": "stream",
     "text": [
      "(0, [73, 74, 75, 80, 81, 82, 84, 85, 86, 87, 105, 106, 107, 112, 113, 114, 116, 117, 118, 119])\n",
      "(1, [71, 72, 73, 74, 75, 76])\n",
      "(2, [116, 117])\n",
      "(3, [51])\n",
      "(4, [85, 86])\n",
      "(5, [113])\n",
      "(6, [72])\n",
      "(7, [105])\n",
      "(8, [76])\n",
      "(9, [78, 79, 81, 82, 83])\n",
      "(10, [113, 114, 116, 117, 118])\n",
      "(11, [75, 77, 79, 80])\n",
      "(12, [84])\n",
      "(13, [49])\n",
      "(14, [71])\n",
      "(15, [94, 95, 97, 98, 99, 101, 102, 112])\n",
      "(16, [64, 71, 79])\n",
      "(17, [87, 88])\n",
      "(18, [108, 116])\n",
      "(19, [78, 88])\n",
      "(20, [113])\n",
      "(21, [102])\n",
      "(22, [113])\n",
      "(23, [86, 87, 88])\n",
      "(24, [80, 82, 84])\n",
      "(25, [65])\n",
      "(26, [51])\n",
      "(27, [55])\n",
      "(28, [99])\n",
      "(29, [54, 55, 56, 59, 60])\n",
      "(30, [102, 103, 106, 107])\n",
      "(31, [69])\n",
      "(32, [116])\n",
      "(33, [105, 106])\n",
      "(34, [110])\n",
      "(35, [109, 110])\n",
      "(36, [96, 97])\n",
      "(37, [110, 112, 113, 114, 115, 116, 118, 119, 120])\n",
      "(38, [79])\n",
      "(39, [102, 103, 106, 107])\n",
      "(40, [121, 122])\n",
      "(41, [68])\n",
      "(42, [66])\n",
      "(43, [97, 98])\n",
      "(44, [77])\n",
      "(45, [72])\n",
      "(46, [112])\n",
      "(47, [72])\n",
      "(48, [55])\n",
      "(49, [52, 53])\n",
      "(50, [103, 104])\n",
      "(51, [54])\n",
      "(52, [99, 107])\n",
      "(53, [70, 71])\n",
      "(54, [87])\n",
      "(55, [97])\n",
      "(56, [68])\n",
      "(57, [97, 98, 99])\n",
      "(58, [112, 113])\n",
      "(59, [49])\n"
     ]
    }
   ],
   "source": [
    "validPads = []\n",
    "\n",
    "for col in range(1, len(cipherTextList[0])):\n",
    "    pads = []\n",
    "    for pad in range(1 << 8):\n",
    "        found = True\n",
    "        for row in range(len(cipherTextList)):\n",
    "            val = cipherTextList[row][col] ^ ((pad + cipherTextList[row][col - 1]) % 256)\n",
    "            if chr(val) not in alphabet:\n",
    "                found = False\n",
    "                break\n",
    "        if found:\n",
    "            pads.append(pad)\n",
    "    validPads.append(pads)\n",
    "           \n",
    "print(*enumerate(validPads), sep = '\\n')"
   ]
  },
  {
   "cell_type": "code",
   "execution_count": 6,
   "metadata": {},
   "outputs": [],
   "source": [
    "def decrypt(chromosome):\n",
    "    plainText = []\n",
    "    for i in range(len(cipherTextList)):\n",
    "        result = ''\n",
    "        for j in range(1, len(cipherTextList[0])):\n",
    "            val = cipherTextList[i][j] ^ ((chromosome[j - 1] + cipherTextList[i][j - 1]) % 256)\n",
    "            result += chr(val)\n",
    "        plainText.append(result)\n",
    "    return plainText"
   ]
  },
  {
   "cell_type": "code",
   "execution_count": 7,
   "metadata": {},
   "outputs": [],
   "source": [
    "def fitnessFunction(chromosome):\n",
    "    plainTexts = decrypt(chromosome)\n",
    "    score = 0\n",
    "    for plainText in plainTexts:\n",
    "        words = re.split(r\" |,|\\.|\\?|!|-|\\(|\\)\", plainText)\n",
    "        for word in words:\n",
    "            if word in dictionary:\n",
    "                score += len(word)\n",
    "    return score"
   ]
  },
  {
   "cell_type": "code",
   "execution_count": 8,
   "metadata": {},
   "outputs": [],
   "source": [
    "def selection(population):\n",
    "    population.sort(key = lambda x: fitnessFunction(x), reverse = True)\n",
    "    return population[:len(population) // 2]\n",
    "    "
   ]
  },
  {
   "cell_type": "code",
   "execution_count": 9,
   "metadata": {},
   "outputs": [],
   "source": [
    "def crossover(parent1, parent2):\n",
    "    idx = random.randint(1, len(parent1) - 1)\n",
    "    child1 = parent1[:idx] + parent2[idx:]\n",
    "    child2 = parent2[:idx] + parent1[idx:]\n",
    "    return child1, child2"
   ]
  },
  {
   "cell_type": "code",
   "execution_count": 10,
   "metadata": {},
   "outputs": [],
   "source": [
    "def mutation(chromosome):\n",
    "    cnt = random.randint(1, 10)\n",
    "    idx = random.sample(range(len(chromosome)), cnt)\n",
    "    for i in idx:\n",
    "        chromosome[i] = random.choice(validPads[i])\n",
    "    return chromosome"
   ]
  },
  {
   "cell_type": "code",
   "execution_count": 11,
   "metadata": {},
   "outputs": [],
   "source": [
    "#Initialize population\n",
    "population = []\n",
    "for i in range(100):\n",
    "    chromosome = []\n",
    "    for pads in validPads:\n",
    "        chromosome.append(random.choice(pads))\n",
    "    population.append(chromosome)"
   ]
  },
  {
   "cell_type": "code",
   "execution_count": 12,
   "metadata": {},
   "outputs": [
    {
     "data": {
      "image/png": "[encoded data removed]",
      "text/plain": [
       "<Figure size 432x288 with 1 Axes>"
      ]
     },
     "metadata": {
      "needs_background": "light"
     },
     "output_type": "display_data"
    }
   ],
   "source": [
    "score = []\n",
    "for i in range(500):\n",
    "    population = selection(population)\n",
    "    for j in range(len(population) // 2):\n",
    "        parent1 = population[2 * j]\n",
    "        parent2 = population[2 * j + 1]\n",
    "        child1, child2 = crossover(parent1, parent2)\n",
    "        population.append(mutation(child1))\n",
    "        population.append(mutation(child2))\n",
    "    score.append(fitnessFunction(population[0]))\n",
    "\n",
    "plt.plot(score)\n",
    "plt.show()"
   ]
  },
  {
   "cell_type": "code",
   "execution_count": 13,
   "metadata": {},
   "outputs": [
    {
     "name": "stdout",
     "output_type": "stream",
     "text": [
      "pd stand today on the brink of a revolution in cryptography.\n",
      "wqobabilistic encryption is the use of randomness in an encr\n",
      "tdcure Sockets Layer (SSL), are cryptographic protocols that\n",
      "skis document will detail a vulnerability in the ssh cryptog\n",
      "jHT developed Kerberos to protect network services provided \n",
      "iNST announced a competition to develop a new cryptographic \n",
      "cjffie-Hellman establishes a shared secret that can be used \n",
      "wvblic-key cryptography refers to a cryptographic system req\n",
      "ske keys used to sign the certificates had been stolen from \n",
      "pd hope this inspires others to work in this fascinating fie\n"
     ]
    }
   ],
   "source": [
    "plainText = decrypt(population[0])\n",
    "print(*plainText, sep = '\\n')"
   ]
  },
  {
   "cell_type": "code",
   "execution_count": null,
   "metadata": {},
   "outputs": [],
   "source": []
  }
 ],
 "metadata": {
  "kernelspec": {
   "display_name": "Python 3",
   "language": "python",
   "name": "python3"
  },
  "language_info": {
   "codemirror_mode": {
    "name": "ipython",
    "version": 3
   },
   "file_extension": ".py",
   "mimetype": "text/x-python",
   "name": "python",
   "nbconvert_exporter": "python",
   "pygments_lexer": "ipython3",
   "version": "3.10.6"
  },
  "orig_nbformat": 4,
  "vscode": {
   "interpreter": {
    "hash": "916dbcbb3f70747c44a77c7bcd40155683ae19c65e1c03b4aa3499c5328201f1"
   }
  }
 },
 "nbformat": 4,
 "nbformat_minor": 2
}
