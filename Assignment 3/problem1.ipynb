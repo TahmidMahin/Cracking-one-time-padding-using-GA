{
 "cells": [
  {
   "cell_type": "code",
   "execution_count": 2,
   "metadata": {},
   "outputs": [
    {
     "name": "stdout",
     "output_type": "stream",
     "text": [
      "Aachen's Abbott's Aberdeen Abrams's Acadia's Acapulco Achebe's Achernar Achilles Acosta's\n"
     ]
    }
   ],
   "source": [
    "path = '/usr/share/dict/words'\n",
    "# Open the file\n",
    "dictionaryFile = open(path, 'r')\n",
    "words = dictionaryFile.readlines()\n",
    "wordList = []\n",
    "for word in words:\n",
    "    word = word.strip()\n",
    "    if len(word) == 8:\n",
    "        wordList.append(word)\n",
    "        \n",
    "dictionaryFile.close()\n",
    "\n",
    "print(*wordList[:10], sep = ' ')"
   ]
  },
  {
   "cell_type": "code",
   "execution_count": 3,
   "metadata": {},
   "outputs": [],
   "source": [
    "import BitVector"
   ]
  },
  {
   "cell_type": "code",
   "execution_count": 9,
   "metadata": {},
   "outputs": [],
   "source": [
    "def BinarySearch(word):\n",
    "    low = 0\n",
    "    high = len(wordList) - 1\n",
    "    while low <= high:\n",
    "        mid = (low + high) // 2\n",
    "        if wordList[mid] == word:\n",
    "            return True\n",
    "        elif wordList[mid] < word:\n",
    "            low = mid + 1\n",
    "        else:\n",
    "            high = mid - 1\n",
    "    return False"
   ]
  },
  {
   "cell_type": "code",
   "execution_count": 12,
   "metadata": {},
   "outputs": [
    {
     "name": "stdout",
     "output_type": "stream",
     "text": [
      "The key is:  875f9db293013ea6\n"
     ]
    }
   ],
   "source": [
    "cipherText1 = BitVector.BitVector(hexstring = 'e93ae9c5fc7355d5')\n",
    "cipherText2 = BitVector.BitVector(hexstring = 'f43afec7e1684adf')\n",
    "\n",
    "key = None\n",
    "\n",
    "for word in wordList:\n",
    "    word_bv = BitVector.BitVector(textstring = word)\n",
    "    probableKey = cipherText1 ^ word_bv\n",
    "    decryptedText_bv = cipherText2 ^ probableKey\n",
    "    decryptedText = decryptedText_bv.get_text_from_bitvector()\n",
    "    if BinarySearch(decryptedText):\n",
    "        print('The key is: ', probableKey.getHexStringFromBitVector())\n",
    "        key = probableKey\n",
    "        break\n",
    "    "
   ]
  },
  {
   "cell_type": "code",
   "execution_count": 14,
   "metadata": {},
   "outputs": [
    {
     "name": "stdout",
     "output_type": "stream",
     "text": [
      "networks\n",
      "security\n"
     ]
    }
   ],
   "source": [
    "#Correctness check\n",
    "print((cipherText1 ^ key).get_text_from_bitvector())\n",
    "print((cipherText2 ^ key).get_text_from_bitvector())"
   ]
  },
  {
   "cell_type": "code",
   "execution_count": null,
   "metadata": {},
   "outputs": [],
   "source": []
  }
 ],
 "metadata": {
  "kernelspec": {
   "display_name": "Python 3",
   "language": "python",
   "name": "python3"
  },
  "language_info": {
   "codemirror_mode": {
    "name": "ipython",
    "version": 3
   },
   "file_extension": ".py",
   "mimetype": "text/x-python",
   "name": "python",
   "nbconvert_exporter": "python",
   "pygments_lexer": "ipython3",
   "version": "3.10.6"
  },
  "orig_nbformat": 4,
  "vscode": {
   "interpreter": {
    "hash": "916dbcbb3f70747c44a77c7bcd40155683ae19c65e1c03b4aa3499c5328201f1"
   }
  }
 },
 "nbformat": 4,
 "nbformat_minor": 2
}
